{
 "cells": [
  {
   "cell_type": "markdown",
   "id": "d19558f1-071f-4e73-bd11-3d3f4221e973",
   "metadata": {},
   "source": [
    "# Analyzing Key Factors influencing U.S. Home Prices.\n",
    "## About the dataset\n",
    "\n",
    "\n",
    "The data collected for this assignment are sourced from fred.stlouisfed.org. These datasets contain quarterly data on key factors that influence US home prices nationally.\n",
    "\n",
    "* DATE: The date of the observation. (2003 - 2023)\n",
    "* CSUSHPISA: S&P/Case-Shiller U.S. National Home Price Index (Index Jan 2000=100, Seasonally Adjusted). This variable serves as a proxy for home prices    and represents the home price index for the United States\n",
    "* GDP: Gross Domestic Product (Billions of Dollars, Seasonally Adjusted Quarterly Rate).\n",
    "* MORTGAGE15US: 30-Year Fixed Rate Mortgage Average in the United States (Percent, Not Seasonally Adjusted). It indicates the average interest rate for     a 30-year fixed-rate mortgage.\n",
    "* MSPUS: Median Sales Price of Houses Sold for the United States.\n",
    "  \n",
    "* POPTHM: Population which includes resident population plus armed forced overseas.It indicates total population of U.S over the last 20 years."
   ]
  },
  {
   "cell_type": "markdown",
   "id": "523d618a-561d-4803-b2ee-3b1a44f06ae8",
   "metadata": {},
   "source": [
    "The data we have collected is recorded quarterly, which means we have observations at the end of each quarter. In our analysis, we are using the S&P Case-Shiller U.S. National Home Price Index (CSUSHPISA) as a representative measure of home prices. This index is reported quarterly and has been adjusted for seasonal variations, making it a comprehensive indicator of home prices on a national scale. These datasets contain valuable information about various significant factors and their potential impact on home prices in the United States. By analyzing this data and developing a data science model, we aim to uncover insights into the connections between these factors and changes in home prices over the last twenty years."
   ]
  },
  {
   "cell_type": "markdown",
   "id": "5bb37db8-4229-451f-819b-0097c5343fee",
   "metadata": {},
   "source": [
    "## Data Preprocessing"
   ]
  },
  {
   "cell_type": "code",
   "execution_count": 1,
   "id": "545ea28d-6cf1-490c-93d0-4e2f2fdbc650",
   "metadata": {},
   "outputs": [],
   "source": [
    "import pandas as pd\n",
    "import numpy as np\n",
    "import matplotlib.pyplot as plt\n",
    "import seaborn as sns\n",
    "from sklearn import linear_model\n",
    "from sklearn.model_selection import GridSearchCV\n",
    "from sklearn.model_selection import ShuffleSplit\n",
    "from sklearn.linear_model import LinearRegression, Lasso\n",
    "from sklearn.tree import DecisionTreeRegressor\n",
    "from sklearn.ensemble import RandomForestRegressor\n",
    "from sklearn.model_selection import train_test_split\n",
    "import warnings   \n",
    "warnings.filterwarnings('ignore')"
   ]
  },
  {
   "cell_type": "code",
   "execution_count": 2,
   "id": "3c03303f-bada-42b1-85d3-0bb312911e55",
   "metadata": {},
   "outputs": [],
   "source": [
    "gdp = pd.read_csv(\"D:\\DS\\Project\\Datasets\\GDP.csv\")\n",
    "median_ps = pd.read_csv(\"D:\\DS\\Project\\Datasets\\MEDIAN_PRICESOLD.csv\")\n",
    "mortage = pd.read_csv(\"D:\\DS\\Project\\Datasets\\MORTGAGE30US.csv\")\n",
    "pop = pd.read_csv(\"D:\\DS\\Project\\Datasets\\POPTHM.csv\")\n",
    "unemp = pd.read_csv(\"D:\\\\DS\\\\Project\\\\Datasets\\\\UNRATE.csv\")\n",
    "hprice = pd.read_csv(\"D:\\DS\\Project\\Datasets\\CSUSHPISA.csv\")"
   ]
  },
  {
   "cell_type": "code",
   "execution_count": 3,
   "id": "327b8adb-1256-49b9-b1be-31bad832c362",
   "metadata": {},
   "outputs": [
    {
     "data": {
      "text/html": [
       "<div>\n",
       "<style scoped>\n",
       "    .dataframe tbody tr th:only-of-type {\n",
       "        vertical-align: middle;\n",
       "    }\n",
       "\n",
       "    .dataframe tbody tr th {\n",
       "        vertical-align: top;\n",
       "    }\n",
       "\n",
       "    .dataframe thead th {\n",
       "        text-align: right;\n",
       "    }\n",
       "</style>\n",
       "<table border=\"1\" class=\"dataframe\">\n",
       "  <thead>\n",
       "    <tr style=\"text-align: right;\">\n",
       "      <th></th>\n",
       "      <th>DATE</th>\n",
       "      <th>GDP</th>\n",
       "    </tr>\n",
       "  </thead>\n",
       "  <tbody>\n",
       "    <tr>\n",
       "      <th>0</th>\n",
       "      <td>2003-01-01</td>\n",
       "      <td>11174.129</td>\n",
       "    </tr>\n",
       "    <tr>\n",
       "      <th>1</th>\n",
       "      <td>2003-04-01</td>\n",
       "      <td>11312.766</td>\n",
       "    </tr>\n",
       "    <tr>\n",
       "      <th>2</th>\n",
       "      <td>2003-07-01</td>\n",
       "      <td>11566.669</td>\n",
       "    </tr>\n",
       "    <tr>\n",
       "      <th>3</th>\n",
       "      <td>2003-10-01</td>\n",
       "      <td>11772.234</td>\n",
       "    </tr>\n",
       "    <tr>\n",
       "      <th>4</th>\n",
       "      <td>2004-01-01</td>\n",
       "      <td>11923.447</td>\n",
       "    </tr>\n",
       "  </tbody>\n",
       "</table>\n",
       "</div>"
      ],
      "text/plain": [
       "         DATE        GDP\n",
       "0  2003-01-01  11174.129\n",
       "1  2003-04-01  11312.766\n",
       "2  2003-07-01  11566.669\n",
       "3  2003-10-01  11772.234\n",
       "4  2004-01-01  11923.447"
      ]
     },
     "execution_count": 3,
     "metadata": {},
     "output_type": "execute_result"
    }
   ],
   "source": [
    "gdp.head()"
   ]
  },
  {
   "cell_type": "code",
   "execution_count": 4,
   "id": "369007c8-d49d-47a7-a9cc-46330025247c",
   "metadata": {},
   "outputs": [
    {
     "data": {
      "text/html": [
       "<div>\n",
       "<style scoped>\n",
       "    .dataframe tbody tr th:only-of-type {\n",
       "        vertical-align: middle;\n",
       "    }\n",
       "\n",
       "    .dataframe tbody tr th {\n",
       "        vertical-align: top;\n",
       "    }\n",
       "\n",
       "    .dataframe thead th {\n",
       "        text-align: right;\n",
       "    }\n",
       "</style>\n",
       "<table border=\"1\" class=\"dataframe\">\n",
       "  <thead>\n",
       "    <tr style=\"text-align: right;\">\n",
       "      <th></th>\n",
       "      <th>DATE</th>\n",
       "      <th>MSPUS</th>\n",
       "    </tr>\n",
       "  </thead>\n",
       "  <tbody>\n",
       "    <tr>\n",
       "      <th>0</th>\n",
       "      <td>2003-01-01</td>\n",
       "      <td>186000.0</td>\n",
       "    </tr>\n",
       "    <tr>\n",
       "      <th>1</th>\n",
       "      <td>2003-04-01</td>\n",
       "      <td>191800.0</td>\n",
       "    </tr>\n",
       "    <tr>\n",
       "      <th>2</th>\n",
       "      <td>2003-07-01</td>\n",
       "      <td>191900.0</td>\n",
       "    </tr>\n",
       "    <tr>\n",
       "      <th>3</th>\n",
       "      <td>2003-10-01</td>\n",
       "      <td>198800.0</td>\n",
       "    </tr>\n",
       "    <tr>\n",
       "      <th>4</th>\n",
       "      <td>2004-01-01</td>\n",
       "      <td>212700.0</td>\n",
       "    </tr>\n",
       "  </tbody>\n",
       "</table>\n",
       "</div>"
      ],
      "text/plain": [
       "         DATE     MSPUS\n",
       "0  2003-01-01  186000.0\n",
       "1  2003-04-01  191800.0\n",
       "2  2003-07-01  191900.0\n",
       "3  2003-10-01  198800.0\n",
       "4  2004-01-01  212700.0"
      ]
     },
     "execution_count": 4,
     "metadata": {},
     "output_type": "execute_result"
    }
   ],
   "source": [
    "median_ps.head()"
   ]
  },
  {
   "cell_type": "code",
   "execution_count": 5,
   "id": "d7d881b5-b625-4d09-9453-4c612377cd8f",
   "metadata": {},
   "outputs": [
    {
     "data": {
      "text/html": [
       "<div>\n",
       "<style scoped>\n",
       "    .dataframe tbody tr th:only-of-type {\n",
       "        vertical-align: middle;\n",
       "    }\n",
       "\n",
       "    .dataframe tbody tr th {\n",
       "        vertical-align: top;\n",
       "    }\n",
       "\n",
       "    .dataframe thead th {\n",
       "        text-align: right;\n",
       "    }\n",
       "</style>\n",
       "<table border=\"1\" class=\"dataframe\">\n",
       "  <thead>\n",
       "    <tr style=\"text-align: right;\">\n",
       "      <th></th>\n",
       "      <th>DATE</th>\n",
       "      <th>MORTGAGE30US</th>\n",
       "    </tr>\n",
       "  </thead>\n",
       "  <tbody>\n",
       "    <tr>\n",
       "      <th>0</th>\n",
       "      <td>2003-01-01</td>\n",
       "      <td>5.8407692307692308</td>\n",
       "    </tr>\n",
       "    <tr>\n",
       "      <th>1</th>\n",
       "      <td>2003-04-01</td>\n",
       "      <td>5.5069230769230769</td>\n",
       "    </tr>\n",
       "    <tr>\n",
       "      <th>2</th>\n",
       "      <td>2003-07-01</td>\n",
       "      <td>6.0338461538461538</td>\n",
       "    </tr>\n",
       "    <tr>\n",
       "      <th>3</th>\n",
       "      <td>2003-10-01</td>\n",
       "      <td>5.9192857142857143</td>\n",
       "    </tr>\n",
       "    <tr>\n",
       "      <th>4</th>\n",
       "      <td>2004-01-01</td>\n",
       "      <td>5.5975000000000000</td>\n",
       "    </tr>\n",
       "  </tbody>\n",
       "</table>\n",
       "</div>"
      ],
      "text/plain": [
       "         DATE        MORTGAGE30US\n",
       "0  2003-01-01  5.8407692307692308\n",
       "1  2003-04-01  5.5069230769230769\n",
       "2  2003-07-01  6.0338461538461538\n",
       "3  2003-10-01  5.9192857142857143\n",
       "4  2004-01-01  5.5975000000000000"
      ]
     },
     "execution_count": 5,
     "metadata": {},
     "output_type": "execute_result"
    }
   ],
   "source": [
    "mortage.head()"
   ]
  },
  {
   "cell_type": "code",
   "execution_count": 6,
   "id": "c98a8fa8-2185-44ad-a6f7-e7f63372ff25",
   "metadata": {},
   "outputs": [
    {
     "data": {
      "text/html": [
       "<div>\n",
       "<style scoped>\n",
       "    .dataframe tbody tr th:only-of-type {\n",
       "        vertical-align: middle;\n",
       "    }\n",
       "\n",
       "    .dataframe tbody tr th {\n",
       "        vertical-align: top;\n",
       "    }\n",
       "\n",
       "    .dataframe thead th {\n",
       "        text-align: right;\n",
       "    }\n",
       "</style>\n",
       "<table border=\"1\" class=\"dataframe\">\n",
       "  <thead>\n",
       "    <tr style=\"text-align: right;\">\n",
       "      <th></th>\n",
       "      <th>DATE</th>\n",
       "      <th>POPTHM</th>\n",
       "    </tr>\n",
       "  </thead>\n",
       "  <tbody>\n",
       "    <tr>\n",
       "      <th>0</th>\n",
       "      <td>2003-01-01</td>\n",
       "      <td>289609.000000000000</td>\n",
       "    </tr>\n",
       "    <tr>\n",
       "      <th>1</th>\n",
       "      <td>2003-04-01</td>\n",
       "      <td>290252.666666666667</td>\n",
       "    </tr>\n",
       "    <tr>\n",
       "      <th>2</th>\n",
       "      <td>2003-07-01</td>\n",
       "      <td>290974.000000000000</td>\n",
       "    </tr>\n",
       "    <tr>\n",
       "      <th>3</th>\n",
       "      <td>2003-10-01</td>\n",
       "      <td>291669.333333333333</td>\n",
       "    </tr>\n",
       "    <tr>\n",
       "      <th>4</th>\n",
       "      <td>2004-01-01</td>\n",
       "      <td>292236.666666666667</td>\n",
       "    </tr>\n",
       "  </tbody>\n",
       "</table>\n",
       "</div>"
      ],
      "text/plain": [
       "         DATE               POPTHM\n",
       "0  2003-01-01  289609.000000000000\n",
       "1  2003-04-01  290252.666666666667\n",
       "2  2003-07-01  290974.000000000000\n",
       "3  2003-10-01  291669.333333333333\n",
       "4  2004-01-01  292236.666666666667"
      ]
     },
     "execution_count": 6,
     "metadata": {},
     "output_type": "execute_result"
    }
   ],
   "source": [
    "pop.head()"
   ]
  },
  {
   "cell_type": "code",
   "execution_count": 7,
   "id": "2cacdc90-8241-4fc6-8226-27ad5c9e7860",
   "metadata": {},
   "outputs": [
    {
     "data": {
      "text/html": [
       "<div>\n",
       "<style scoped>\n",
       "    .dataframe tbody tr th:only-of-type {\n",
       "        vertical-align: middle;\n",
       "    }\n",
       "\n",
       "    .dataframe tbody tr th {\n",
       "        vertical-align: top;\n",
       "    }\n",
       "\n",
       "    .dataframe thead th {\n",
       "        text-align: right;\n",
       "    }\n",
       "</style>\n",
       "<table border=\"1\" class=\"dataframe\">\n",
       "  <thead>\n",
       "    <tr style=\"text-align: right;\">\n",
       "      <th></th>\n",
       "      <th>DATE</th>\n",
       "      <th>UNRATE</th>\n",
       "    </tr>\n",
       "  </thead>\n",
       "  <tbody>\n",
       "    <tr>\n",
       "      <th>0</th>\n",
       "      <td>2003-01-01</td>\n",
       "      <td>5.866667</td>\n",
       "    </tr>\n",
       "    <tr>\n",
       "      <th>1</th>\n",
       "      <td>2003-04-01</td>\n",
       "      <td>6.133333</td>\n",
       "    </tr>\n",
       "    <tr>\n",
       "      <th>2</th>\n",
       "      <td>2003-07-01</td>\n",
       "      <td>6.133333</td>\n",
       "    </tr>\n",
       "    <tr>\n",
       "      <th>3</th>\n",
       "      <td>2003-10-01</td>\n",
       "      <td>5.833333</td>\n",
       "    </tr>\n",
       "    <tr>\n",
       "      <th>4</th>\n",
       "      <td>2004-01-01</td>\n",
       "      <td>5.700000</td>\n",
       "    </tr>\n",
       "  </tbody>\n",
       "</table>\n",
       "</div>"
      ],
      "text/plain": [
       "         DATE    UNRATE\n",
       "0  2003-01-01  5.866667\n",
       "1  2003-04-01  6.133333\n",
       "2  2003-07-01  6.133333\n",
       "3  2003-10-01  5.833333\n",
       "4  2004-01-01  5.700000"
      ]
     },
     "execution_count": 7,
     "metadata": {},
     "output_type": "execute_result"
    }
   ],
   "source": [
    "unemp.head()"
   ]
  },
  {
   "cell_type": "code",
   "execution_count": 8,
   "id": "43304d23-54c1-445f-b243-c2063e747b16",
   "metadata": {},
   "outputs": [],
   "source": [
    "mdf = pd.merge(mortage,pop,how=\"inner\",on = \"DATE\")"
   ]
  },
  {
   "cell_type": "code",
   "execution_count": 9,
   "id": "1bfe49b6-7dd1-4e83-b64e-43faf52e6bb2",
   "metadata": {},
   "outputs": [
    {
     "data": {
      "text/html": [
       "<div>\n",
       "<style scoped>\n",
       "    .dataframe tbody tr th:only-of-type {\n",
       "        vertical-align: middle;\n",
       "    }\n",
       "\n",
       "    .dataframe tbody tr th {\n",
       "        vertical-align: top;\n",
       "    }\n",
       "\n",
       "    .dataframe thead th {\n",
       "        text-align: right;\n",
       "    }\n",
       "</style>\n",
       "<table border=\"1\" class=\"dataframe\">\n",
       "  <thead>\n",
       "    <tr style=\"text-align: right;\">\n",
       "      <th></th>\n",
       "      <th>DATE</th>\n",
       "      <th>GDP</th>\n",
       "      <th>MSPUS</th>\n",
       "    </tr>\n",
       "  </thead>\n",
       "  <tbody>\n",
       "    <tr>\n",
       "      <th>0</th>\n",
       "      <td>2003-01-01</td>\n",
       "      <td>11174.129</td>\n",
       "      <td>186000.0</td>\n",
       "    </tr>\n",
       "    <tr>\n",
       "      <th>1</th>\n",
       "      <td>2003-04-01</td>\n",
       "      <td>11312.766</td>\n",
       "      <td>191800.0</td>\n",
       "    </tr>\n",
       "    <tr>\n",
       "      <th>2</th>\n",
       "      <td>2003-07-01</td>\n",
       "      <td>11566.669</td>\n",
       "      <td>191900.0</td>\n",
       "    </tr>\n",
       "    <tr>\n",
       "      <th>3</th>\n",
       "      <td>2003-10-01</td>\n",
       "      <td>11772.234</td>\n",
       "      <td>198800.0</td>\n",
       "    </tr>\n",
       "    <tr>\n",
       "      <th>4</th>\n",
       "      <td>2004-01-01</td>\n",
       "      <td>11923.447</td>\n",
       "      <td>212700.0</td>\n",
       "    </tr>\n",
       "  </tbody>\n",
       "</table>\n",
       "</div>"
      ],
      "text/plain": [
       "         DATE        GDP     MSPUS\n",
       "0  2003-01-01  11174.129  186000.0\n",
       "1  2003-04-01  11312.766  191800.0\n",
       "2  2003-07-01  11566.669  191900.0\n",
       "3  2003-10-01  11772.234  198800.0\n",
       "4  2004-01-01  11923.447  212700.0"
      ]
     },
     "execution_count": 9,
     "metadata": {},
     "output_type": "execute_result"
    }
   ],
   "source": [
    "mdf1 = pd.merge(gdp,median_ps,how=\"inner\",on = \"DATE\")\n",
    "mdf1.head()"
   ]
  },
  {
   "cell_type": "code",
   "execution_count": 10,
   "id": "50fce092-8393-4dc3-b722-0a964badd835",
   "metadata": {
    "scrolled": true
   },
   "outputs": [
    {
     "data": {
      "text/html": [
       "<div>\n",
       "<style scoped>\n",
       "    .dataframe tbody tr th:only-of-type {\n",
       "        vertical-align: middle;\n",
       "    }\n",
       "\n",
       "    .dataframe tbody tr th {\n",
       "        vertical-align: top;\n",
       "    }\n",
       "\n",
       "    .dataframe thead th {\n",
       "        text-align: right;\n",
       "    }\n",
       "</style>\n",
       "<table border=\"1\" class=\"dataframe\">\n",
       "  <thead>\n",
       "    <tr style=\"text-align: right;\">\n",
       "      <th></th>\n",
       "      <th>DATE</th>\n",
       "      <th>MORTGAGE30US</th>\n",
       "      <th>POPTHM</th>\n",
       "      <th>UNRATE</th>\n",
       "    </tr>\n",
       "  </thead>\n",
       "  <tbody>\n",
       "    <tr>\n",
       "      <th>0</th>\n",
       "      <td>2003-01-01</td>\n",
       "      <td>5.8407692307692308</td>\n",
       "      <td>289609.000000000000</td>\n",
       "      <td>5.866667</td>\n",
       "    </tr>\n",
       "    <tr>\n",
       "      <th>1</th>\n",
       "      <td>2003-04-01</td>\n",
       "      <td>5.5069230769230769</td>\n",
       "      <td>290252.666666666667</td>\n",
       "      <td>6.133333</td>\n",
       "    </tr>\n",
       "    <tr>\n",
       "      <th>2</th>\n",
       "      <td>2003-07-01</td>\n",
       "      <td>6.0338461538461538</td>\n",
       "      <td>290974.000000000000</td>\n",
       "      <td>6.133333</td>\n",
       "    </tr>\n",
       "    <tr>\n",
       "      <th>3</th>\n",
       "      <td>2003-10-01</td>\n",
       "      <td>5.9192857142857143</td>\n",
       "      <td>291669.333333333333</td>\n",
       "      <td>5.833333</td>\n",
       "    </tr>\n",
       "    <tr>\n",
       "      <th>4</th>\n",
       "      <td>2004-01-01</td>\n",
       "      <td>5.5975000000000000</td>\n",
       "      <td>292236.666666666667</td>\n",
       "      <td>5.700000</td>\n",
       "    </tr>\n",
       "  </tbody>\n",
       "</table>\n",
       "</div>"
      ],
      "text/plain": [
       "         DATE        MORTGAGE30US               POPTHM    UNRATE\n",
       "0  2003-01-01  5.8407692307692308  289609.000000000000  5.866667\n",
       "1  2003-04-01  5.5069230769230769  290252.666666666667  6.133333\n",
       "2  2003-07-01  6.0338461538461538  290974.000000000000  6.133333\n",
       "3  2003-10-01  5.9192857142857143  291669.333333333333  5.833333\n",
       "4  2004-01-01  5.5975000000000000  292236.666666666667  5.700000"
      ]
     },
     "execution_count": 10,
     "metadata": {},
     "output_type": "execute_result"
    }
   ],
   "source": [
    "data1 = pd.merge(mdf,unemp,how=\"inner\",on = \"DATE\")\n",
    "data1.head()"
   ]
  },
  {
   "cell_type": "code",
   "execution_count": 11,
   "id": "d4fef481-feae-4038-b54c-2667d1a38bbd",
   "metadata": {},
   "outputs": [],
   "source": [
    "data2 = pd.merge(data1,mdf1,how = \"inner\",on = \"DATE\")\n"
   ]
  },
  {
   "cell_type": "code",
   "execution_count": 12,
   "id": "2ccdbb64-251b-4003-b7c0-0ef8e061dcb6",
   "metadata": {},
   "outputs": [
    {
     "data": {
      "text/html": [
       "<div>\n",
       "<style scoped>\n",
       "    .dataframe tbody tr th:only-of-type {\n",
       "        vertical-align: middle;\n",
       "    }\n",
       "\n",
       "    .dataframe tbody tr th {\n",
       "        vertical-align: top;\n",
       "    }\n",
       "\n",
       "    .dataframe thead th {\n",
       "        text-align: right;\n",
       "    }\n",
       "</style>\n",
       "<table border=\"1\" class=\"dataframe\">\n",
       "  <thead>\n",
       "    <tr style=\"text-align: right;\">\n",
       "      <th></th>\n",
       "      <th>DATE</th>\n",
       "      <th>MORTGAGE30US</th>\n",
       "      <th>POPTHM</th>\n",
       "      <th>UNRATE</th>\n",
       "      <th>GDP</th>\n",
       "      <th>MSPUS</th>\n",
       "      <th>CSUSHPISA</th>\n",
       "    </tr>\n",
       "  </thead>\n",
       "  <tbody>\n",
       "    <tr>\n",
       "      <th>0</th>\n",
       "      <td>2003-01-01</td>\n",
       "      <td>5.8407692307692308</td>\n",
       "      <td>289609.000000000000</td>\n",
       "      <td>5.866667</td>\n",
       "      <td>11174.129</td>\n",
       "      <td>186000.0</td>\n",
       "      <td>129.3213333333333333</td>\n",
       "    </tr>\n",
       "    <tr>\n",
       "      <th>1</th>\n",
       "      <td>2003-04-01</td>\n",
       "      <td>5.5069230769230769</td>\n",
       "      <td>290252.666666666667</td>\n",
       "      <td>6.133333</td>\n",
       "      <td>11312.766</td>\n",
       "      <td>191800.0</td>\n",
       "      <td>131.7556666666666667</td>\n",
       "    </tr>\n",
       "    <tr>\n",
       "      <th>2</th>\n",
       "      <td>2003-07-01</td>\n",
       "      <td>6.0338461538461538</td>\n",
       "      <td>290974.000000000000</td>\n",
       "      <td>6.133333</td>\n",
       "      <td>11566.669</td>\n",
       "      <td>191900.0</td>\n",
       "      <td>135.0133333333333333</td>\n",
       "    </tr>\n",
       "    <tr>\n",
       "      <th>3</th>\n",
       "      <td>2003-10-01</td>\n",
       "      <td>5.9192857142857143</td>\n",
       "      <td>291669.333333333333</td>\n",
       "      <td>5.833333</td>\n",
       "      <td>11772.234</td>\n",
       "      <td>198800.0</td>\n",
       "      <td>138.8349999999999933</td>\n",
       "    </tr>\n",
       "    <tr>\n",
       "      <th>4</th>\n",
       "      <td>2004-01-01</td>\n",
       "      <td>5.5975000000000000</td>\n",
       "      <td>292236.666666666667</td>\n",
       "      <td>5.700000</td>\n",
       "      <td>11923.447</td>\n",
       "      <td>212700.0</td>\n",
       "      <td>143.2990000000000067</td>\n",
       "    </tr>\n",
       "  </tbody>\n",
       "</table>\n",
       "</div>"
      ],
      "text/plain": [
       "         DATE        MORTGAGE30US               POPTHM    UNRATE        GDP  \\\n",
       "0  2003-01-01  5.8407692307692308  289609.000000000000  5.866667  11174.129   \n",
       "1  2003-04-01  5.5069230769230769  290252.666666666667  6.133333  11312.766   \n",
       "2  2003-07-01  6.0338461538461538  290974.000000000000  6.133333  11566.669   \n",
       "3  2003-10-01  5.9192857142857143  291669.333333333333  5.833333  11772.234   \n",
       "4  2004-01-01  5.5975000000000000  292236.666666666667  5.700000  11923.447   \n",
       "\n",
       "      MSPUS             CSUSHPISA  \n",
       "0  186000.0  129.3213333333333333  \n",
       "1  191800.0  131.7556666666666667  \n",
       "2  191900.0  135.0133333333333333  \n",
       "3  198800.0  138.8349999999999933  \n",
       "4  212700.0  143.2990000000000067  "
      ]
     },
     "execution_count": 12,
     "metadata": {},
     "output_type": "execute_result"
    }
   ],
   "source": [
    "data = pd.merge(data2,hprice,how = \"inner\",on = \"DATE\")\n",
    "data.head()"
   ]
  },
  {
   "cell_type": "code",
   "execution_count": 13,
   "id": "624101f6-7a85-477c-b887-518568659492",
   "metadata": {},
   "outputs": [],
   "source": [
    "data = data.rename(columns={\"MORTGAGE30US\":\"Mortgage\",\"POPTHM\":\"Population\",\"UNRATE\":\"Unemployement_Rate\",\"MSPUS\":\"Median_Sales_Price\",\"CSUSHPISA\":\"House_Price_Index\"})"
   ]
  },
  {
   "cell_type": "code",
   "execution_count": 14,
   "id": "5e471213-ac87-49c2-b3b3-916cd511e44d",
   "metadata": {},
   "outputs": [
    {
     "data": {
      "text/html": [
       "<div>\n",
       "<style scoped>\n",
       "    .dataframe tbody tr th:only-of-type {\n",
       "        vertical-align: middle;\n",
       "    }\n",
       "\n",
       "    .dataframe tbody tr th {\n",
       "        vertical-align: top;\n",
       "    }\n",
       "\n",
       "    .dataframe thead th {\n",
       "        text-align: right;\n",
       "    }\n",
       "</style>\n",
       "<table border=\"1\" class=\"dataframe\">\n",
       "  <thead>\n",
       "    <tr style=\"text-align: right;\">\n",
       "      <th></th>\n",
       "      <th>DATE</th>\n",
       "      <th>Mortgage</th>\n",
       "      <th>Population</th>\n",
       "      <th>Unemployement_Rate</th>\n",
       "      <th>GDP</th>\n",
       "      <th>Median_Sales_Price</th>\n",
       "      <th>House_Price_Index</th>\n",
       "    </tr>\n",
       "  </thead>\n",
       "  <tbody>\n",
       "    <tr>\n",
       "      <th>0</th>\n",
       "      <td>2003-01-01</td>\n",
       "      <td>5.8407692307692308</td>\n",
       "      <td>289609.000000000000</td>\n",
       "      <td>5.866667</td>\n",
       "      <td>11174.129</td>\n",
       "      <td>186000.0</td>\n",
       "      <td>129.3213333333333333</td>\n",
       "    </tr>\n",
       "    <tr>\n",
       "      <th>1</th>\n",
       "      <td>2003-04-01</td>\n",
       "      <td>5.5069230769230769</td>\n",
       "      <td>290252.666666666667</td>\n",
       "      <td>6.133333</td>\n",
       "      <td>11312.766</td>\n",
       "      <td>191800.0</td>\n",
       "      <td>131.7556666666666667</td>\n",
       "    </tr>\n",
       "    <tr>\n",
       "      <th>2</th>\n",
       "      <td>2003-07-01</td>\n",
       "      <td>6.0338461538461538</td>\n",
       "      <td>290974.000000000000</td>\n",
       "      <td>6.133333</td>\n",
       "      <td>11566.669</td>\n",
       "      <td>191900.0</td>\n",
       "      <td>135.0133333333333333</td>\n",
       "    </tr>\n",
       "    <tr>\n",
       "      <th>3</th>\n",
       "      <td>2003-10-01</td>\n",
       "      <td>5.9192857142857143</td>\n",
       "      <td>291669.333333333333</td>\n",
       "      <td>5.833333</td>\n",
       "      <td>11772.234</td>\n",
       "      <td>198800.0</td>\n",
       "      <td>138.8349999999999933</td>\n",
       "    </tr>\n",
       "    <tr>\n",
       "      <th>4</th>\n",
       "      <td>2004-01-01</td>\n",
       "      <td>5.5975000000000000</td>\n",
       "      <td>292236.666666666667</td>\n",
       "      <td>5.700000</td>\n",
       "      <td>11923.447</td>\n",
       "      <td>212700.0</td>\n",
       "      <td>143.2990000000000067</td>\n",
       "    </tr>\n",
       "  </tbody>\n",
       "</table>\n",
       "</div>"
      ],
      "text/plain": [
       "         DATE            Mortgage           Population  Unemployement_Rate  \\\n",
       "0  2003-01-01  5.8407692307692308  289609.000000000000            5.866667   \n",
       "1  2003-04-01  5.5069230769230769  290252.666666666667            6.133333   \n",
       "2  2003-07-01  6.0338461538461538  290974.000000000000            6.133333   \n",
       "3  2003-10-01  5.9192857142857143  291669.333333333333            5.833333   \n",
       "4  2004-01-01  5.5975000000000000  292236.666666666667            5.700000   \n",
       "\n",
       "         GDP  Median_Sales_Price     House_Price_Index  \n",
       "0  11174.129            186000.0  129.3213333333333333  \n",
       "1  11312.766            191800.0  131.7556666666666667  \n",
       "2  11566.669            191900.0  135.0133333333333333  \n",
       "3  11772.234            198800.0  138.8349999999999933  \n",
       "4  11923.447            212700.0  143.2990000000000067  "
      ]
     },
     "execution_count": 14,
     "metadata": {},
     "output_type": "execute_result"
    }
   ],
   "source": [
    "data.head()"
   ]
  },
  {
   "cell_type": "code",
   "execution_count": 15,
   "id": "4f04f50b-0951-436b-b203-6ae888456625",
   "metadata": {},
   "outputs": [
    {
     "data": {
      "text/html": [
       "<div>\n",
       "<style scoped>\n",
       "    .dataframe tbody tr th:only-of-type {\n",
       "        vertical-align: middle;\n",
       "    }\n",
       "\n",
       "    .dataframe tbody tr th {\n",
       "        vertical-align: top;\n",
       "    }\n",
       "\n",
       "    .dataframe thead th {\n",
       "        text-align: right;\n",
       "    }\n",
       "</style>\n",
       "<table border=\"1\" class=\"dataframe\">\n",
       "  <thead>\n",
       "    <tr style=\"text-align: right;\">\n",
       "      <th></th>\n",
       "      <th>DATE</th>\n",
       "      <th>Mortgage</th>\n",
       "      <th>Population</th>\n",
       "      <th>Unemployement_Rate</th>\n",
       "      <th>GDP</th>\n",
       "      <th>Median_Sales_Price</th>\n",
       "      <th>House_Price_Index</th>\n",
       "    </tr>\n",
       "  </thead>\n",
       "  <tbody>\n",
       "    <tr>\n",
       "      <th>0</th>\n",
       "      <td>2003-01-01</td>\n",
       "      <td>5.8407692307692308</td>\n",
       "      <td>289609.000000000000</td>\n",
       "      <td>5.866667</td>\n",
       "      <td>11174.129</td>\n",
       "      <td>186000.0</td>\n",
       "      <td>129.3213333333333333</td>\n",
       "    </tr>\n",
       "    <tr>\n",
       "      <th>1</th>\n",
       "      <td>2003-04-01</td>\n",
       "      <td>5.5069230769230769</td>\n",
       "      <td>290252.666666666667</td>\n",
       "      <td>6.133333</td>\n",
       "      <td>11312.766</td>\n",
       "      <td>191800.0</td>\n",
       "      <td>131.7556666666666667</td>\n",
       "    </tr>\n",
       "    <tr>\n",
       "      <th>2</th>\n",
       "      <td>2003-07-01</td>\n",
       "      <td>6.0338461538461538</td>\n",
       "      <td>290974.000000000000</td>\n",
       "      <td>6.133333</td>\n",
       "      <td>11566.669</td>\n",
       "      <td>191900.0</td>\n",
       "      <td>135.0133333333333333</td>\n",
       "    </tr>\n",
       "    <tr>\n",
       "      <th>3</th>\n",
       "      <td>2003-10-01</td>\n",
       "      <td>5.9192857142857143</td>\n",
       "      <td>291669.333333333333</td>\n",
       "      <td>5.833333</td>\n",
       "      <td>11772.234</td>\n",
       "      <td>198800.0</td>\n",
       "      <td>138.8349999999999933</td>\n",
       "    </tr>\n",
       "    <tr>\n",
       "      <th>4</th>\n",
       "      <td>2004-01-01</td>\n",
       "      <td>5.5975000000000000</td>\n",
       "      <td>292236.666666666667</td>\n",
       "      <td>5.700000</td>\n",
       "      <td>11923.447</td>\n",
       "      <td>212700.0</td>\n",
       "      <td>143.2990000000000067</td>\n",
       "    </tr>\n",
       "  </tbody>\n",
       "</table>\n",
       "</div>"
      ],
      "text/plain": [
       "         DATE            Mortgage           Population  Unemployement_Rate  \\\n",
       "0  2003-01-01  5.8407692307692308  289609.000000000000            5.866667   \n",
       "1  2003-04-01  5.5069230769230769  290252.666666666667            6.133333   \n",
       "2  2003-07-01  6.0338461538461538  290974.000000000000            6.133333   \n",
       "3  2003-10-01  5.9192857142857143  291669.333333333333            5.833333   \n",
       "4  2004-01-01  5.5975000000000000  292236.666666666667            5.700000   \n",
       "\n",
       "         GDP  Median_Sales_Price     House_Price_Index  \n",
       "0  11174.129            186000.0  129.3213333333333333  \n",
       "1  11312.766            191800.0  131.7556666666666667  \n",
       "2  11566.669            191900.0  135.0133333333333333  \n",
       "3  11772.234            198800.0  138.8349999999999933  \n",
       "4  11923.447            212700.0  143.2990000000000067  "
      ]
     },
     "execution_count": 15,
     "metadata": {},
     "output_type": "execute_result"
    }
   ],
   "source": [
    "data.round({\"Mortgage\":3})\n",
    "data.head()"
   ]
  },
  {
   "cell_type": "code",
   "execution_count": 16,
   "id": "7b7451b4-bb27-4ca6-84cd-d822bc0ca669",
   "metadata": {},
   "outputs": [
    {
     "data": {
      "text/html": [
       "<div>\n",
       "<style scoped>\n",
       "    .dataframe tbody tr th:only-of-type {\n",
       "        vertical-align: middle;\n",
       "    }\n",
       "\n",
       "    .dataframe tbody tr th {\n",
       "        vertical-align: top;\n",
       "    }\n",
       "\n",
       "    .dataframe thead th {\n",
       "        text-align: right;\n",
       "    }\n",
       "</style>\n",
       "<table border=\"1\" class=\"dataframe\">\n",
       "  <thead>\n",
       "    <tr style=\"text-align: right;\">\n",
       "      <th></th>\n",
       "      <th>DATE</th>\n",
       "      <th>Mortgage</th>\n",
       "      <th>Population</th>\n",
       "      <th>Unemployement_Rate</th>\n",
       "      <th>GDP</th>\n",
       "      <th>Median_Sales_Price</th>\n",
       "      <th>House_Price_Index</th>\n",
       "    </tr>\n",
       "  </thead>\n",
       "  <tbody>\n",
       "    <tr>\n",
       "      <th>0</th>\n",
       "      <td>2003-01-01</td>\n",
       "      <td>5.8407692307692308</td>\n",
       "      <td>289609.000000000000</td>\n",
       "      <td>5.866667</td>\n",
       "      <td>11174.129</td>\n",
       "      <td>186000.0</td>\n",
       "      <td>129.3213333333333333</td>\n",
       "    </tr>\n",
       "    <tr>\n",
       "      <th>1</th>\n",
       "      <td>2003-04-01</td>\n",
       "      <td>5.5069230769230769</td>\n",
       "      <td>290252.666666666667</td>\n",
       "      <td>6.133333</td>\n",
       "      <td>11312.766</td>\n",
       "      <td>191800.0</td>\n",
       "      <td>131.7556666666666667</td>\n",
       "    </tr>\n",
       "    <tr>\n",
       "      <th>2</th>\n",
       "      <td>2003-07-01</td>\n",
       "      <td>6.0338461538461538</td>\n",
       "      <td>290974.000000000000</td>\n",
       "      <td>6.133333</td>\n",
       "      <td>11566.669</td>\n",
       "      <td>191900.0</td>\n",
       "      <td>135.0133333333333333</td>\n",
       "    </tr>\n",
       "    <tr>\n",
       "      <th>3</th>\n",
       "      <td>2003-10-01</td>\n",
       "      <td>5.9192857142857143</td>\n",
       "      <td>291669.333333333333</td>\n",
       "      <td>5.833333</td>\n",
       "      <td>11772.234</td>\n",
       "      <td>198800.0</td>\n",
       "      <td>138.8349999999999933</td>\n",
       "    </tr>\n",
       "    <tr>\n",
       "      <th>4</th>\n",
       "      <td>2004-01-01</td>\n",
       "      <td>5.5975000000000000</td>\n",
       "      <td>292236.666666666667</td>\n",
       "      <td>5.700000</td>\n",
       "      <td>11923.447</td>\n",
       "      <td>212700.0</td>\n",
       "      <td>143.2990000000000067</td>\n",
       "    </tr>\n",
       "  </tbody>\n",
       "</table>\n",
       "</div>"
      ],
      "text/plain": [
       "         DATE            Mortgage           Population  Unemployement_Rate  \\\n",
       "0  2003-01-01  5.8407692307692308  289609.000000000000            5.866667   \n",
       "1  2003-04-01  5.5069230769230769  290252.666666666667            6.133333   \n",
       "2  2003-07-01  6.0338461538461538  290974.000000000000            6.133333   \n",
       "3  2003-10-01  5.9192857142857143  291669.333333333333            5.833333   \n",
       "4  2004-01-01  5.5975000000000000  292236.666666666667            5.700000   \n",
       "\n",
       "         GDP  Median_Sales_Price     House_Price_Index  \n",
       "0  11174.129            186000.0  129.3213333333333333  \n",
       "1  11312.766            191800.0  131.7556666666666667  \n",
       "2  11566.669            191900.0  135.0133333333333333  \n",
       "3  11772.234            198800.0  138.8349999999999933  \n",
       "4  11923.447            212700.0  143.2990000000000067  "
      ]
     },
     "execution_count": 16,
     "metadata": {},
     "output_type": "execute_result"
    }
   ],
   "source": [
    "data.head()"
   ]
  },
  {
   "cell_type": "code",
   "execution_count": 17,
   "id": "1357c66c-0097-4d05-b746-83373d004060",
   "metadata": {},
   "outputs": [
    {
     "data": {
      "text/plain": [
       "DATE                   object\n",
       "Mortgage               object\n",
       "Population             object\n",
       "Unemployement_Rate    float64\n",
       "GDP                   float64\n",
       "Median_Sales_Price    float64\n",
       "House_Price_Index      object\n",
       "dtype: object"
      ]
     },
     "execution_count": 17,
     "metadata": {},
     "output_type": "execute_result"
    }
   ],
   "source": [
    "data.dtypes"
   ]
  },
  {
   "cell_type": "code",
   "execution_count": 18,
   "id": "beb01c20-25d0-4512-97e0-17d161db3f7e",
   "metadata": {},
   "outputs": [],
   "source": [
    "data['Mortgage'] = data['Mortgage'].astype(float)\n",
    "data['Population'] = data['Population'].astype(float)\n",
    "data['House_Price_Index'] = data['House_Price_Index'].astype(float)\n",
    "data[\"DATE\"] = pd.to_datetime(data[\"DATE\"])"
   ]
  },
  {
   "cell_type": "code",
   "execution_count": 19,
   "id": "f6208c54-5646-499e-a099-77910f7a09e0",
   "metadata": {},
   "outputs": [
    {
     "data": {
      "text/plain": [
       "DATE                  datetime64[ns]\n",
       "Mortgage                     float64\n",
       "Population                   float64\n",
       "Unemployement_Rate           float64\n",
       "GDP                          float64\n",
       "Median_Sales_Price           float64\n",
       "House_Price_Index            float64\n",
       "dtype: object"
      ]
     },
     "execution_count": 19,
     "metadata": {},
     "output_type": "execute_result"
    }
   ],
   "source": [
    "data.dtypes"
   ]
  },
  {
   "cell_type": "code",
   "execution_count": 20,
   "id": "59490cd7-bbce-4162-b608-93706d56ffc6",
   "metadata": {},
   "outputs": [
    {
     "data": {
      "text/html": [
       "<div>\n",
       "<style scoped>\n",
       "    .dataframe tbody tr th:only-of-type {\n",
       "        vertical-align: middle;\n",
       "    }\n",
       "\n",
       "    .dataframe tbody tr th {\n",
       "        vertical-align: top;\n",
       "    }\n",
       "\n",
       "    .dataframe thead th {\n",
       "        text-align: right;\n",
       "    }\n",
       "</style>\n",
       "<table border=\"1\" class=\"dataframe\">\n",
       "  <thead>\n",
       "    <tr style=\"text-align: right;\">\n",
       "      <th></th>\n",
       "      <th>DATE</th>\n",
       "      <th>Mortgage</th>\n",
       "      <th>Population</th>\n",
       "      <th>Unemployement_Rate</th>\n",
       "      <th>GDP</th>\n",
       "      <th>Median_Sales_Price</th>\n",
       "      <th>House_Price_Index</th>\n",
       "    </tr>\n",
       "  </thead>\n",
       "  <tbody>\n",
       "    <tr>\n",
       "      <th>0</th>\n",
       "      <td>2003-01-01</td>\n",
       "      <td>5.840769</td>\n",
       "      <td>289609.000000</td>\n",
       "      <td>5.866667</td>\n",
       "      <td>11174.129</td>\n",
       "      <td>186000.0</td>\n",
       "      <td>129.321333</td>\n",
       "    </tr>\n",
       "    <tr>\n",
       "      <th>1</th>\n",
       "      <td>2003-04-01</td>\n",
       "      <td>5.506923</td>\n",
       "      <td>290252.666667</td>\n",
       "      <td>6.133333</td>\n",
       "      <td>11312.766</td>\n",
       "      <td>191800.0</td>\n",
       "      <td>131.755667</td>\n",
       "    </tr>\n",
       "    <tr>\n",
       "      <th>2</th>\n",
       "      <td>2003-07-01</td>\n",
       "      <td>6.033846</td>\n",
       "      <td>290974.000000</td>\n",
       "      <td>6.133333</td>\n",
       "      <td>11566.669</td>\n",
       "      <td>191900.0</td>\n",
       "      <td>135.013333</td>\n",
       "    </tr>\n",
       "    <tr>\n",
       "      <th>3</th>\n",
       "      <td>2003-10-01</td>\n",
       "      <td>5.919286</td>\n",
       "      <td>291669.333333</td>\n",
       "      <td>5.833333</td>\n",
       "      <td>11772.234</td>\n",
       "      <td>198800.0</td>\n",
       "      <td>138.835000</td>\n",
       "    </tr>\n",
       "    <tr>\n",
       "      <th>4</th>\n",
       "      <td>2004-01-01</td>\n",
       "      <td>5.597500</td>\n",
       "      <td>292236.666667</td>\n",
       "      <td>5.700000</td>\n",
       "      <td>11923.447</td>\n",
       "      <td>212700.0</td>\n",
       "      <td>143.299000</td>\n",
       "    </tr>\n",
       "  </tbody>\n",
       "</table>\n",
       "</div>"
      ],
      "text/plain": [
       "        DATE  Mortgage     Population  Unemployement_Rate        GDP  \\\n",
       "0 2003-01-01  5.840769  289609.000000            5.866667  11174.129   \n",
       "1 2003-04-01  5.506923  290252.666667            6.133333  11312.766   \n",
       "2 2003-07-01  6.033846  290974.000000            6.133333  11566.669   \n",
       "3 2003-10-01  5.919286  291669.333333            5.833333  11772.234   \n",
       "4 2004-01-01  5.597500  292236.666667            5.700000  11923.447   \n",
       "\n",
       "   Median_Sales_Price  House_Price_Index  \n",
       "0            186000.0         129.321333  \n",
       "1            191800.0         131.755667  \n",
       "2            191900.0         135.013333  \n",
       "3            198800.0         138.835000  \n",
       "4            212700.0         143.299000  "
      ]
     },
     "execution_count": 20,
     "metadata": {},
     "output_type": "execute_result"
    }
   ],
   "source": [
    "data.head()"
   ]
  },
  {
   "cell_type": "code",
   "execution_count": 21,
   "id": "8dc6010f-d6fc-48b7-ba17-3caa1a4a7557",
   "metadata": {},
   "outputs": [],
   "source": [
    "data = data.round(3)"
   ]
  },
  {
   "cell_type": "code",
   "execution_count": 22,
   "id": "e804e12f-1754-4999-a21f-37a40b1c1dea",
   "metadata": {},
   "outputs": [
    {
     "data": {
      "text/html": [
       "<div>\n",
       "<style scoped>\n",
       "    .dataframe tbody tr th:only-of-type {\n",
       "        vertical-align: middle;\n",
       "    }\n",
       "\n",
       "    .dataframe tbody tr th {\n",
       "        vertical-align: top;\n",
       "    }\n",
       "\n",
       "    .dataframe thead th {\n",
       "        text-align: right;\n",
       "    }\n",
       "</style>\n",
       "<table border=\"1\" class=\"dataframe\">\n",
       "  <thead>\n",
       "    <tr style=\"text-align: right;\">\n",
       "      <th></th>\n",
       "      <th>DATE</th>\n",
       "      <th>Mortgage</th>\n",
       "      <th>Population</th>\n",
       "      <th>Unemployement_Rate</th>\n",
       "      <th>GDP</th>\n",
       "      <th>Median_Sales_Price</th>\n",
       "      <th>House_Price_Index</th>\n",
       "    </tr>\n",
       "  </thead>\n",
       "  <tbody>\n",
       "    <tr>\n",
       "      <th>0</th>\n",
       "      <td>2003-01-01</td>\n",
       "      <td>5.841</td>\n",
       "      <td>289609.00</td>\n",
       "      <td>5.9</td>\n",
       "      <td>11174.13</td>\n",
       "      <td>186000.0</td>\n",
       "      <td>129.32</td>\n",
       "    </tr>\n",
       "    <tr>\n",
       "      <th>1</th>\n",
       "      <td>2003-04-01</td>\n",
       "      <td>5.507</td>\n",
       "      <td>290252.67</td>\n",
       "      <td>6.1</td>\n",
       "      <td>11312.77</td>\n",
       "      <td>191800.0</td>\n",
       "      <td>131.76</td>\n",
       "    </tr>\n",
       "    <tr>\n",
       "      <th>2</th>\n",
       "      <td>2003-07-01</td>\n",
       "      <td>6.034</td>\n",
       "      <td>290974.00</td>\n",
       "      <td>6.1</td>\n",
       "      <td>11566.67</td>\n",
       "      <td>191900.0</td>\n",
       "      <td>135.01</td>\n",
       "    </tr>\n",
       "    <tr>\n",
       "      <th>3</th>\n",
       "      <td>2003-10-01</td>\n",
       "      <td>5.919</td>\n",
       "      <td>291669.33</td>\n",
       "      <td>5.8</td>\n",
       "      <td>11772.23</td>\n",
       "      <td>198800.0</td>\n",
       "      <td>138.84</td>\n",
       "    </tr>\n",
       "    <tr>\n",
       "      <th>4</th>\n",
       "      <td>2004-01-01</td>\n",
       "      <td>5.598</td>\n",
       "      <td>292236.67</td>\n",
       "      <td>5.7</td>\n",
       "      <td>11923.45</td>\n",
       "      <td>212700.0</td>\n",
       "      <td>143.30</td>\n",
       "    </tr>\n",
       "  </tbody>\n",
       "</table>\n",
       "</div>"
      ],
      "text/plain": [
       "        DATE  Mortgage  Population  Unemployement_Rate       GDP  \\\n",
       "0 2003-01-01     5.841   289609.00                 5.9  11174.13   \n",
       "1 2003-04-01     5.507   290252.67                 6.1  11312.77   \n",
       "2 2003-07-01     6.034   290974.00                 6.1  11566.67   \n",
       "3 2003-10-01     5.919   291669.33                 5.8  11772.23   \n",
       "4 2004-01-01     5.598   292236.67                 5.7  11923.45   \n",
       "\n",
       "   Median_Sales_Price  House_Price_Index  \n",
       "0            186000.0             129.32  \n",
       "1            191800.0             131.76  \n",
       "2            191900.0             135.01  \n",
       "3            198800.0             138.84  \n",
       "4            212700.0             143.30  "
      ]
     },
     "execution_count": 22,
     "metadata": {},
     "output_type": "execute_result"
    }
   ],
   "source": [
    "data = data.round({\"Mortage\":2,\"Population\":2,\"Unemployement_Rate\":1,\"GDP\":2,\"Median_Sales_Price\":0,\"House_Price_Index\":2})\n",
    "data.head()"
   ]
  },
  {
   "cell_type": "markdown",
   "id": "07ba47b7-7b47-490e-8bd2-9554830841f9",
   "metadata": {},
   "source": [
    "## Exploratory Data Analysis \n",
    "### Correlations\n",
    "\n",
    "In order to better understand the correlation between independent variables and the target variable, which is home prices, we performed exploratory data analysis on the datasets we collected. Below, you will find the main discoveries and visual representations that highlight the patterns and connections of each variable with the U.S. National Home Price Index."
   ]
  },
  {
   "cell_type": "code",
   "execution_count": 23,
   "id": "d433cbb0-1642-4aab-920a-e64049213145",
   "metadata": {},
   "outputs": [
    {
     "data": {
      "text/html": [
       "<div>\n",
       "<style scoped>\n",
       "    .dataframe tbody tr th:only-of-type {\n",
       "        vertical-align: middle;\n",
       "    }\n",
       "\n",
       "    .dataframe tbody tr th {\n",
       "        vertical-align: top;\n",
       "    }\n",
       "\n",
       "    .dataframe thead th {\n",
       "        text-align: right;\n",
       "    }\n",
       "</style>\n",
       "<table border=\"1\" class=\"dataframe\">\n",
       "  <thead>\n",
       "    <tr style=\"text-align: right;\">\n",
       "      <th></th>\n",
       "      <th>DATE</th>\n",
       "      <th>Mortgage</th>\n",
       "      <th>Population</th>\n",
       "      <th>Unemployement_Rate</th>\n",
       "      <th>GDP</th>\n",
       "      <th>Median_Sales_Price</th>\n",
       "      <th>House_Price_Index</th>\n",
       "    </tr>\n",
       "  </thead>\n",
       "  <tbody>\n",
       "    <tr>\n",
       "      <th>DATE</th>\n",
       "      <td>1.000000</td>\n",
       "      <td>-0.612552</td>\n",
       "      <td>0.993698</td>\n",
       "      <td>-0.247209</td>\n",
       "      <td>0.972733</td>\n",
       "      <td>0.898280</td>\n",
       "      <td>0.762595</td>\n",
       "    </tr>\n",
       "    <tr>\n",
       "      <th>Mortgage</th>\n",
       "      <td>-0.612552</td>\n",
       "      <td>1.000000</td>\n",
       "      <td>-0.658113</td>\n",
       "      <td>-0.224338</td>\n",
       "      <td>-0.448722</td>\n",
       "      <td>-0.330469</td>\n",
       "      <td>-0.092894</td>\n",
       "    </tr>\n",
       "    <tr>\n",
       "      <th>Population</th>\n",
       "      <td>0.993698</td>\n",
       "      <td>-0.658113</td>\n",
       "      <td>1.000000</td>\n",
       "      <td>-0.212412</td>\n",
       "      <td>0.944451</td>\n",
       "      <td>0.853128</td>\n",
       "      <td>0.694284</td>\n",
       "    </tr>\n",
       "    <tr>\n",
       "      <th>Unemployement_Rate</th>\n",
       "      <td>-0.247209</td>\n",
       "      <td>-0.224338</td>\n",
       "      <td>-0.212412</td>\n",
       "      <td>1.000000</td>\n",
       "      <td>-0.374106</td>\n",
       "      <td>-0.482240</td>\n",
       "      <td>-0.530796</td>\n",
       "    </tr>\n",
       "    <tr>\n",
       "      <th>GDP</th>\n",
       "      <td>0.972733</td>\n",
       "      <td>-0.448722</td>\n",
       "      <td>0.944451</td>\n",
       "      <td>-0.374106</td>\n",
       "      <td>1.000000</td>\n",
       "      <td>0.961185</td>\n",
       "      <td>0.878763</td>\n",
       "    </tr>\n",
       "    <tr>\n",
       "      <th>Median_Sales_Price</th>\n",
       "      <td>0.898280</td>\n",
       "      <td>-0.330469</td>\n",
       "      <td>0.853128</td>\n",
       "      <td>-0.482240</td>\n",
       "      <td>0.961185</td>\n",
       "      <td>1.000000</td>\n",
       "      <td>0.942874</td>\n",
       "    </tr>\n",
       "    <tr>\n",
       "      <th>House_Price_Index</th>\n",
       "      <td>0.762595</td>\n",
       "      <td>-0.092894</td>\n",
       "      <td>0.694284</td>\n",
       "      <td>-0.530796</td>\n",
       "      <td>0.878763</td>\n",
       "      <td>0.942874</td>\n",
       "      <td>1.000000</td>\n",
       "    </tr>\n",
       "  </tbody>\n",
       "</table>\n",
       "</div>"
      ],
      "text/plain": [
       "                        DATE  Mortgage  Population  Unemployement_Rate  \\\n",
       "DATE                1.000000 -0.612552    0.993698           -0.247209   \n",
       "Mortgage           -0.612552  1.000000   -0.658113           -0.224338   \n",
       "Population          0.993698 -0.658113    1.000000           -0.212412   \n",
       "Unemployement_Rate -0.247209 -0.224338   -0.212412            1.000000   \n",
       "GDP                 0.972733 -0.448722    0.944451           -0.374106   \n",
       "Median_Sales_Price  0.898280 -0.330469    0.853128           -0.482240   \n",
       "House_Price_Index   0.762595 -0.092894    0.694284           -0.530796   \n",
       "\n",
       "                         GDP  Median_Sales_Price  House_Price_Index  \n",
       "DATE                0.972733            0.898280           0.762595  \n",
       "Mortgage           -0.448722           -0.330469          -0.092894  \n",
       "Population          0.944451            0.853128           0.694284  \n",
       "Unemployement_Rate -0.374106           -0.482240          -0.530796  \n",
       "GDP                 1.000000            0.961185           0.878763  \n",
       "Median_Sales_Price  0.961185            1.000000           0.942874  \n",
       "House_Price_Index   0.878763            0.942874           1.000000  "
      ]
     },
     "execution_count": 23,
     "metadata": {},
     "output_type": "execute_result"
    }
   ],
   "source": [
    "data.corr()"
   ]
  },
  {
   "cell_type": "markdown",
   "id": "f7319d74-70fe-43a4-8c15-f4eb2235545f",
   "metadata": {},
   "source": [
    "## Correlation Matrix: \n",
    "This shows influence of HPI with other factors (positive or negative and intensity)"
   ]
  },
  {
   "cell_type": "code",
   "execution_count": 41,
   "id": "c7561d2b-bc39-4440-b0a1-b523e33f791a",
   "metadata": {},
   "outputs": [
    {
     "data": {
      "text/plain": [
       "<Axes: >"
      ]
     },
     "execution_count": 41,
     "metadata": {},
     "output_type": "execute_result"
    },
    {
     "data": {
      "image/png": "[encoded data removed]",
      "text/plain": [
       "<Figure size 640x480 with 2 Axes>"
      ]
     },
     "metadata": {},
     "output_type": "display_data"
    }
   ],
   "source": [
    "corr_matrix = data.corr()\n",
    "\n",
    "sns.heatmap(corr_matrix, annot=True)"
   ]
  },
  {
   "cell_type": "markdown",
   "id": "f61ccb74-d124-46ea-bec4-e361538afb49",
   "metadata": {},
   "source": [
    "To explain the relationship between each column in the data and House_Price_Index , we will analyse the correlation coefficients provided.\n",
    "\n",
    "### Mortgage : Negative correlation (-0.61): \n",
    "There is a weak negative relationship between mortgage interest rates and House_Price_Index. It suggests that higher mortgage rates are associated with slightly lower home prices.\n",
    "\n",
    "### Population : Strong positive correlation (0.99): \n",
    "There is a compelling positive correlation between the population and the House Price Index. This points to a robust direct relationship, suggesting that as the population increases, there is a substantial tendency for home prices to also increase.\n",
    "\n",
    "### Unemployement_Rate : Negative correlation (-0.24): \n",
    "There is a negative correlation between the unemployment rate and the House Price Index which suggests a mild inverse relationship, indicating that as the unemployment rate increases, there is a tendency for home prices to experience a slight decrease.\n",
    "\n",
    "### GDP (Gross Domestic Product): Strong positive correlation (0.97): \n",
    "There is a strong positive relationship between GDP and House_Price_Index. Higher GDP is strongly associated with higher home prices.\n",
    "\n",
    "### Median_Sales_Price: Strong positive correlation (0.89): \n",
    "There is a strong positive relationship between the median sales price of houses sold and House_Price_Index. Higher median sales prices are strongly associated with higher home prices.\n",
    "\n",
    "These correlation coefficients provide insights into the relationships between each variable and House_Price_Index, indicating their influence on home prices."
   ]
  },
  {
   "cell_type": "markdown",
   "id": "f00fcd35-decb-403e-9d2b-6455c4693004",
   "metadata": {},
   "source": [
    "## Visualization Analysis:"
   ]
  },
  {
   "cell_type": "code",
   "execution_count": 25,
   "id": "84ad83b0-45b2-4473-97e4-46229a3d100a",
   "metadata": {},
   "outputs": [
    {
     "data": {
      "text/plain": [
       "<Axes: xlabel='House_Price_Index', ylabel='GDP'>"
      ]
     },
     "execution_count": 25,
     "metadata": {},
     "output_type": "execute_result"
    },
    {
     "data": {
      "image/png": "[encoded data removed]",
      "text/plain": [
       "<Figure size 640x480 with 1 Axes>"
      ]
     },
     "metadata": {},
     "output_type": "display_data"
    }
   ],
   "source": [
    "sns.regplot(x=\"House_Price_Index\", y=\"GDP\", data=data,scatter_kws={\"color\":\"red\"}, line_kws={\"color\":\"blue\"})"
   ]
  },
  {
   "cell_type": "code",
   "execution_count": 26,
   "id": "883c2ef5-6ead-4d8e-92f6-692d901e0db2",
   "metadata": {},
   "outputs": [
    {
     "data": {
      "text/plain": [
       "<Axes: xlabel='House_Price_Index', ylabel='Population'>"
      ]
     },
     "execution_count": 26,
     "metadata": {},
     "output_type": "execute_result"
    },
    {
     "data": {
      "image/png": "[encoded data removed]",
      "text/plain": [
       "<Figure size 640x480 with 1 Axes>"
      ]
     },
     "metadata": {},
     "output_type": "display_data"
    }
   ],
   "source": [
    "sns.regplot(x=\"House_Price_Index\", y=\"Population\", data=data,scatter_kws={\"color\":\"red\"}, line_kws={\"color\":\"blue\"})"
   ]
  },
  {
   "cell_type": "code",
   "execution_count": 27,
   "id": "fa81cf1a-bc5f-4193-bc6c-e0109aeb1c59",
   "metadata": {},
   "outputs": [
    {
     "data": {
      "text/plain": [
       "<Axes: xlabel='House_Price_Index', ylabel='Mortgage'>"
      ]
     },
     "execution_count": 27,
     "metadata": {},
     "output_type": "execute_result"
    },
    {
     "data": {
      "image/png": "[encoded data removed]",
      "text/plain": [
       "<Figure size 640x480 with 1 Axes>"
      ]
     },
     "metadata": {},
     "output_type": "display_data"
    }
   ],
   "source": [
    "sns.regplot(x=\"House_Price_Index\", y=\"Mortgage\", data=data,scatter_kws={\"color\":\"red\"}, line_kws={\"color\":\"blue\"})"
   ]
  },
  {
   "cell_type": "code",
   "execution_count": 28,
   "id": "0e83ebf2-03f8-4659-bf39-5a60b2446dae",
   "metadata": {},
   "outputs": [
    {
     "data": {
      "text/plain": [
       "<Axes: xlabel='House_Price_Index', ylabel='Unemployement_Rate'>"
      ]
     },
     "execution_count": 28,
     "metadata": {},
     "output_type": "execute_result"
    },
    {
     "data": {
      "image/png": "[encoded data removed]",
      "text/plain": [
       "<Figure size 640x480 with 1 Axes>"
      ]
     },
     "metadata": {},
     "output_type": "display_data"
    }
   ],
   "source": [
    "sns.regplot(x=\"House_Price_Index\", y=\"Unemployement_Rate\", data=data,scatter_kws={\"color\":\"red\"}, line_kws={\"color\":\"blue\"})"
   ]
  },
  {
   "cell_type": "code",
   "execution_count": 29,
   "id": "8f4be5aa-63a2-41a4-889a-bc8deb94813c",
   "metadata": {},
   "outputs": [
    {
     "data": {
      "text/plain": [
       "<Axes: xlabel='House_Price_Index', ylabel='Median_Sales_Price'>"
      ]
     },
     "execution_count": 29,
     "metadata": {},
     "output_type": "execute_result"
    },
    {
     "data": {
      "image/png": "[encoded data removed]",
      "text/plain": [
       "<Figure size 640x480 with 1 Axes>"
      ]
     },
     "metadata": {},
     "output_type": "display_data"
    }
   ],
   "source": [
    "sns.regplot(x=\"House_Price_Index\", y=\"Median_Sales_Price\", data=data,scatter_kws={\"color\":\"red\"}, line_kws={\"color\":\"blue\"})"
   ]
  },
  {
   "cell_type": "code",
   "execution_count": 30,
   "id": "2a42c5b7-73f6-4c94-aa23-4536b44d8873",
   "metadata": {},
   "outputs": [
    {
     "data": {
      "text/plain": [
       "(82, 7)"
      ]
     },
     "execution_count": 30,
     "metadata": {},
     "output_type": "execute_result"
    }
   ],
   "source": [
    "data.shape"
   ]
  },
  {
   "cell_type": "code",
   "execution_count": 31,
   "id": "f8d97475-93c9-4602-911d-e3df680813ad",
   "metadata": {},
   "outputs": [
    {
     "data": {
      "text/html": [
       "<div>\n",
       "<style scoped>\n",
       "    .dataframe tbody tr th:only-of-type {\n",
       "        vertical-align: middle;\n",
       "    }\n",
       "\n",
       "    .dataframe tbody tr th {\n",
       "        vertical-align: top;\n",
       "    }\n",
       "\n",
       "    .dataframe thead th {\n",
       "        text-align: right;\n",
       "    }\n",
       "</style>\n",
       "<table border=\"1\" class=\"dataframe\">\n",
       "  <thead>\n",
       "    <tr style=\"text-align: right;\">\n",
       "      <th></th>\n",
       "      <th>DATE</th>\n",
       "      <th>Mortgage</th>\n",
       "      <th>Population</th>\n",
       "      <th>Unemployement_Rate</th>\n",
       "      <th>GDP</th>\n",
       "      <th>Median_Sales_Price</th>\n",
       "      <th>House_Price_Index</th>\n",
       "    </tr>\n",
       "  </thead>\n",
       "  <tbody>\n",
       "    <tr>\n",
       "      <th>0</th>\n",
       "      <td>2003-01-01</td>\n",
       "      <td>5.841</td>\n",
       "      <td>289609.00</td>\n",
       "      <td>5.9</td>\n",
       "      <td>11174.13</td>\n",
       "      <td>186000.0</td>\n",
       "      <td>129.32</td>\n",
       "    </tr>\n",
       "    <tr>\n",
       "      <th>1</th>\n",
       "      <td>2003-04-01</td>\n",
       "      <td>5.507</td>\n",
       "      <td>290252.67</td>\n",
       "      <td>6.1</td>\n",
       "      <td>11312.77</td>\n",
       "      <td>191800.0</td>\n",
       "      <td>131.76</td>\n",
       "    </tr>\n",
       "    <tr>\n",
       "      <th>2</th>\n",
       "      <td>2003-07-01</td>\n",
       "      <td>6.034</td>\n",
       "      <td>290974.00</td>\n",
       "      <td>6.1</td>\n",
       "      <td>11566.67</td>\n",
       "      <td>191900.0</td>\n",
       "      <td>135.01</td>\n",
       "    </tr>\n",
       "  </tbody>\n",
       "</table>\n",
       "</div>"
      ],
      "text/plain": [
       "        DATE  Mortgage  Population  Unemployement_Rate       GDP  \\\n",
       "0 2003-01-01     5.841   289609.00                 5.9  11174.13   \n",
       "1 2003-04-01     5.507   290252.67                 6.1  11312.77   \n",
       "2 2003-07-01     6.034   290974.00                 6.1  11566.67   \n",
       "\n",
       "   Median_Sales_Price  House_Price_Index  \n",
       "0            186000.0             129.32  \n",
       "1            191800.0             131.76  \n",
       "2            191900.0             135.01  "
      ]
     },
     "execution_count": 31,
     "metadata": {},
     "output_type": "execute_result"
    }
   ],
   "source": [
    "data.head(3)"
   ]
  },
  {
   "cell_type": "markdown",
   "id": "85bfe88f-d68e-49d0-856c-a7d7d8a37266",
   "metadata": {},
   "source": [
    "## Splitting the dataset"
   ]
  },
  {
   "cell_type": "code",
   "execution_count": 32,
   "id": "732ebe02-53a9-4491-9a51-6ee7396a81f1",
   "metadata": {},
   "outputs": [
    {
     "data": {
      "text/html": [
       "<div>\n",
       "<style scoped>\n",
       "    .dataframe tbody tr th:only-of-type {\n",
       "        vertical-align: middle;\n",
       "    }\n",
       "\n",
       "    .dataframe tbody tr th {\n",
       "        vertical-align: top;\n",
       "    }\n",
       "\n",
       "    .dataframe thead th {\n",
       "        text-align: right;\n",
       "    }\n",
       "</style>\n",
       "<table border=\"1\" class=\"dataframe\">\n",
       "  <thead>\n",
       "    <tr style=\"text-align: right;\">\n",
       "      <th></th>\n",
       "      <th>Mortgage</th>\n",
       "      <th>Population</th>\n",
       "      <th>Unemployement_Rate</th>\n",
       "      <th>GDP</th>\n",
       "      <th>Median_Sales_Price</th>\n",
       "    </tr>\n",
       "  </thead>\n",
       "  <tbody>\n",
       "    <tr>\n",
       "      <th>0</th>\n",
       "      <td>5.841</td>\n",
       "      <td>289609.00</td>\n",
       "      <td>5.9</td>\n",
       "      <td>11174.13</td>\n",
       "      <td>186000.0</td>\n",
       "    </tr>\n",
       "    <tr>\n",
       "      <th>1</th>\n",
       "      <td>5.507</td>\n",
       "      <td>290252.67</td>\n",
       "      <td>6.1</td>\n",
       "      <td>11312.77</td>\n",
       "      <td>191800.0</td>\n",
       "    </tr>\n",
       "    <tr>\n",
       "      <th>2</th>\n",
       "      <td>6.034</td>\n",
       "      <td>290974.00</td>\n",
       "      <td>6.1</td>\n",
       "      <td>11566.67</td>\n",
       "      <td>191900.0</td>\n",
       "    </tr>\n",
       "    <tr>\n",
       "      <th>3</th>\n",
       "      <td>5.919</td>\n",
       "      <td>291669.33</td>\n",
       "      <td>5.8</td>\n",
       "      <td>11772.23</td>\n",
       "      <td>198800.0</td>\n",
       "    </tr>\n",
       "    <tr>\n",
       "      <th>4</th>\n",
       "      <td>5.598</td>\n",
       "      <td>292236.67</td>\n",
       "      <td>5.7</td>\n",
       "      <td>11923.45</td>\n",
       "      <td>212700.0</td>\n",
       "    </tr>\n",
       "    <tr>\n",
       "      <th>5</th>\n",
       "      <td>6.106</td>\n",
       "      <td>292875.33</td>\n",
       "      <td>5.6</td>\n",
       "      <td>12112.82</td>\n",
       "      <td>217600.0</td>\n",
       "    </tr>\n",
       "    <tr>\n",
       "      <th>6</th>\n",
       "      <td>5.894</td>\n",
       "      <td>293603.33</td>\n",
       "      <td>5.4</td>\n",
       "      <td>12305.31</td>\n",
       "      <td>213500.0</td>\n",
       "    </tr>\n",
       "  </tbody>\n",
       "</table>\n",
       "</div>"
      ],
      "text/plain": [
       "   Mortgage  Population  Unemployement_Rate       GDP  Median_Sales_Price\n",
       "0     5.841   289609.00                 5.9  11174.13            186000.0\n",
       "1     5.507   290252.67                 6.1  11312.77            191800.0\n",
       "2     6.034   290974.00                 6.1  11566.67            191900.0\n",
       "3     5.919   291669.33                 5.8  11772.23            198800.0\n",
       "4     5.598   292236.67                 5.7  11923.45            212700.0\n",
       "5     6.106   292875.33                 5.6  12112.82            217600.0\n",
       "6     5.894   293603.33                 5.4  12305.31            213500.0"
      ]
     },
     "execution_count": 32,
     "metadata": {},
     "output_type": "execute_result"
    }
   ],
   "source": [
    "x = data.drop(['DATE','House_Price_Index'],axis = 'columns')\n",
    "x.head(7)"
   ]
  },
  {
   "cell_type": "code",
   "execution_count": 33,
   "id": "3b5f4f8e-57ab-439d-a4c1-9c926577e9ad",
   "metadata": {},
   "outputs": [
    {
     "data": {
      "text/plain": [
       "0    129.32\n",
       "1    131.76\n",
       "2    135.01\n",
       "Name: House_Price_Index, dtype: float64"
      ]
     },
     "execution_count": 33,
     "metadata": {},
     "output_type": "execute_result"
    }
   ],
   "source": [
    "y = data.House_Price_Index\n",
    "y.head(3)"
   ]
  },
  {
   "cell_type": "code",
   "execution_count": 34,
   "id": "57adf1d5-4e20-4f24-b7a4-3c6e1fa1f3bd",
   "metadata": {},
   "outputs": [],
   "source": [
    "x_train, x_test, y_train, y_test = train_test_split(x,y,test_size=0.3,random_state=10)"
   ]
  },
  {
   "cell_type": "code",
   "execution_count": 35,
   "id": "4c5d3689-1419-4be4-9de7-7a3f0c8781cc",
   "metadata": {},
   "outputs": [
    {
     "data": {
      "text/plain": [
       "0.9634166699617819"
      ]
     },
     "execution_count": 35,
     "metadata": {},
     "output_type": "execute_result"
    }
   ],
   "source": [
    "lr_clf = LinearRegression()\n",
    "lr_clf.fit(x_train,y_train)\n",
    "lr_clf.score(x_test,y_test)"
   ]
  },
  {
   "cell_type": "markdown",
   "id": "1b70ca43-3746-4634-90d8-b49ce7911b6e",
   "metadata": {},
   "source": [
    "## Performing and evaluating various regression models\n",
    "### Hyperparameter tuning using GridSearchCV"
   ]
  },
  {
   "cell_type": "code",
   "execution_count": 36,
   "id": "38446d34-ed1e-440e-af37-e2d17ab9dd99",
   "metadata": {},
   "outputs": [],
   "source": [
    "best_model = None\n",
    "best_score = 0\n",
    "\n",
    "def find_best_model_using_gridsearchcv(x,y):\n",
    "    global best_model \n",
    "    global best_score\n",
    "    algos = {\n",
    "        'linear_regression': {\n",
    "            'model': LinearRegression(),\n",
    "            'params': {'fit_intercept': [True, False]}\n",
    "        },\n",
    "        'lasso': {'model': Lasso(),\n",
    "            'params': {'alpha': [1, 2],\n",
    "                'selection': ['random', 'cyclic']}\n",
    "        },\n",
    "        'decision_tree': {\n",
    "            'model': DecisionTreeRegressor(),\n",
    "            'params': {'criterion': ['mse', 'friedman_mse'],\n",
    "                'splitter': ['best', 'random']}\n",
    "        },\n",
    "        'RandomForest': {'model': RandomForestRegressor(),\n",
    "            'params': {'criterion': ['squared_error', 'poisson'],\n",
    "               'bootstrap':[True, False]}\n",
    "        },\n",
    "    }\n",
    "    \n",
    "    scores = []\n",
    "    cv = ShuffleSplit(n_splits=5, test_size=0.2, random_state=0)\n",
    "      \n",
    "    for algo_name, config in algos.items():\n",
    "        gs = GridSearchCV(config['model'], config['params'], cv=cv, return_train_score=False)\n",
    "        gs.fit(x,y)\n",
    "        scores.append({\n",
    "            'model': algo_name,\n",
    "            'best_score': gs.best_score_,\n",
    "            'best_params': gs.best_params_\n",
    "        })\n",
    "        best_score = max(best_score,gs.best_score_)\n",
    "        if best_score == gs.best_score_:\n",
    "            best_model = config['model']\n",
    "            \n",
    "    return pd.DataFrame(scores, columns=['model', 'best_score', 'best_params'])\n"
   ]
  },
  {
   "cell_type": "code",
   "execution_count": 37,
   "id": "7ff9a747-d2c7-4c99-9698-55b6b514645f",
   "metadata": {},
   "outputs": [
    {
     "data": {
      "text/html": [
       "<div>\n",
       "<style scoped>\n",
       "    .dataframe tbody tr th:only-of-type {\n",
       "        vertical-align: middle;\n",
       "    }\n",
       "\n",
       "    .dataframe tbody tr th {\n",
       "        vertical-align: top;\n",
       "    }\n",
       "\n",
       "    .dataframe thead th {\n",
       "        text-align: right;\n",
       "    }\n",
       "</style>\n",
       "<table border=\"1\" class=\"dataframe\">\n",
       "  <thead>\n",
       "    <tr style=\"text-align: right;\">\n",
       "      <th></th>\n",
       "      <th>model</th>\n",
       "      <th>best_score</th>\n",
       "      <th>best_params</th>\n",
       "    </tr>\n",
       "  </thead>\n",
       "  <tbody>\n",
       "    <tr>\n",
       "      <th>0</th>\n",
       "      <td>linear_regression</td>\n",
       "      <td>0.942653</td>\n",
       "      <td>{'fit_intercept': True}</td>\n",
       "    </tr>\n",
       "    <tr>\n",
       "      <th>1</th>\n",
       "      <td>lasso</td>\n",
       "      <td>0.961777</td>\n",
       "      <td>{'alpha': 2, 'selection': 'cyclic'}</td>\n",
       "    </tr>\n",
       "    <tr>\n",
       "      <th>2</th>\n",
       "      <td>decision_tree</td>\n",
       "      <td>0.980628</td>\n",
       "      <td>{'criterion': 'friedman_mse', 'splitter': 'ran...</td>\n",
       "    </tr>\n",
       "    <tr>\n",
       "      <th>3</th>\n",
       "      <td>RandomForest</td>\n",
       "      <td>0.990502</td>\n",
       "      <td>{'bootstrap': True, 'criterion': 'squared_error'}</td>\n",
       "    </tr>\n",
       "  </tbody>\n",
       "</table>\n",
       "</div>"
      ],
      "text/plain": [
       "               model  best_score  \\\n",
       "0  linear_regression    0.942653   \n",
       "1              lasso    0.961777   \n",
       "2      decision_tree    0.980628   \n",
       "3       RandomForest    0.990502   \n",
       "\n",
       "                                         best_params  \n",
       "0                            {'fit_intercept': True}  \n",
       "1                {'alpha': 2, 'selection': 'cyclic'}  \n",
       "2  {'criterion': 'friedman_mse', 'splitter': 'ran...  \n",
       "3  {'bootstrap': True, 'criterion': 'squared_error'}  "
      ]
     },
     "execution_count": 37,
     "metadata": {},
     "output_type": "execute_result"
    }
   ],
   "source": [
    "find_best_model_using_gridsearchcv(x,y)"
   ]
  },
  {
   "cell_type": "code",
   "execution_count": 38,
   "id": "602475b5-2c42-410b-bb17-36e7df54d4d0",
   "metadata": {},
   "outputs": [
    {
     "name": "stdout",
     "output_type": "stream",
     "text": [
      "Model Selection Results: \n",
      "Best_model: RandomForestRegressor() \n",
      "Best_score: 0.9905017898121147\n"
     ]
    }
   ],
   "source": [
    "print('Model Selection Results:','\\nBest_model:',best_model,'\\nBest_score:',best_score)"
   ]
  },
  {
   "cell_type": "markdown",
   "id": "94c27913-f9b2-420f-ab9a-821d694d0eb4",
   "metadata": {},
   "source": [
    "### Model Evaluation:\n",
    "\n",
    "* The code defines a function, find_best_model_using_gridsearchcv, to find the best regression model for a dataset. \n",
    "* It uses multiple regression algorithms and grid search with cross-validation to evaluate their performance.\n",
    "* The best model and associated score are tracked using global variables.\n",
    "* The results are summarized in a DataFrame.\n",
    "* This function assists in selecting the optimal regression model for a given dataset"
   ]
  },
  {
   "cell_type": "markdown",
   "id": "558ba980-901c-4210-bde0-a56bb5e640ca",
   "metadata": {},
   "source": [
    "### Conclusion:\n",
    "Based on the correlation analysis and score from the RandomForest Regression model, several key insights can be derived:\n",
    "* GDP plays a crucial role in determining home prices. A strong economy with higher GDP and slightly lower interest rates tends to support higher home     prices.\n",
    "* The median sales price of houses sold is strongly correlated with home prices, reflecting the importance of market dynamics and buyer behaviour in       determining home price movements.\n",
    "* Mortage has a negative impact on home prices. Higher mortgage rates and lower consumer sentiment are associated with slightly lower home prices.\n",
    "* Unemployement rate has a negative correlation with the House Price Index which suggests a mild inverse relationship, indicating that as the unemployment rate increases, there is a tendency for home prices to experience a slight decrease.\n",
    "* These insights have broad relevance in the real estate industry, benefitting homebuyers, sellers, developers, and policymakers. Understanding the drivers of home prices aids in making informed decisions about investments, sales, and economic policies."
   ]
  }
 ],
 "metadata": {
  "kernelspec": {
   "display_name": "Python 3 (ipykernel)",
   "language": "python",
   "name": "python3"
  },
  "language_info": {
   "codemirror_mode": {
    "name": "ipython",
    "version": 3
   },
   "file_extension": ".py",
   "mimetype": "text/x-python",
   "name": "python",
   "nbconvert_exporter": "python",
   "pygments_lexer": "ipython3",
   "version": "3.11.5"
  }
 },
 "nbformat": 4,
 "nbformat_minor": 5
}
